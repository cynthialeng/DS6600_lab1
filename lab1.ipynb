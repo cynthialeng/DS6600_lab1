{
 "cells": [
  {
   "cell_type": "markdown",
   "id": "e08c17dd",
   "metadata": {},
   "source": [
    "### Question 1:\n",
    "\n",
    "https://github.com/cynthialeng/DS6600_lab1"
   ]
  },
  {
   "cell_type": "markdown",
   "id": "9b0d1bbb",
   "metadata": {},
   "source": [
    "### Question 2:\n",
    "\n",
    "#### Part (a)\n",
    "\n",
    "We should use a **container**, because it lets us package the web portal and app so that any chapter, no matter their operating system, can run, while also cleanly connecting each to its own database in the cloud. Using a VM would also work, but that’s like giving every chapter its own computer in the cloud, which is way more expensive and complicated than necessary. A virtual environment only helps with Python packages and wouldn’t handle the operating system differences, and the global environment would quickly turn into a mess of conflicting software and make it impossible to reliably share the code with other chapters."
   ]
  },
  {
   "cell_type": "markdown",
   "id": "50455a45",
   "metadata": {},
   "source": [
    "#### Part (b)\n",
    "\n",
    "We should use a **virtual environment** so that we can set up a clean Python workspace with just the packages we need and avoid breaking anything else on our computer while cleaning and analyzing the messy Excel file. A container or VM would be overkill: we don’t need to replicate an operating system or allocate huge cloud resources just to clean one dataset and generate a simple report. The global environment could work, but it risks package conflicts."
   ]
  },
  {
   "cell_type": "markdown",
   "id": "12dacd14",
   "metadata": {},
   "source": [
    "#### Part (c)\n",
    "\n",
    "We should use a **container**, so that we can bundle the model plus the Ubuntu-only image-processing software packages into a Docker image so any staff can run the exact same environment on their laptop. A VM could also satisfy the Ubuntu requirement but is more expensive and harder to replicate and distribute per user than a container. A virtual environment only manages Python packages (not Ubuntu system dependencies) so could not be used here, and the global environment risks conflicts and inconsistency across different machines.\n"
   ]
  },
  {
   "cell_type": "markdown",
   "id": "8af45d6a",
   "metadata": {},
   "source": [
    "#### Part (d)\n",
    "\n",
    "We should use a **virtual environment** so our project keeps using its own Python 3 interpreter even if the system default jumps to Python 4. A container would also isolate us from the system upgrade, but it’s heavier to build and run if all we need is to freeze an interpreter and a few Python packages. The global environment risks breaking the moment Python 4 replaces Python 3, and a virtual machine is massive overkill."
   ]
  },
  {
   "cell_type": "markdown",
   "id": "1b1f6aee",
   "metadata": {},
   "source": [
    "### Question 3:\n",
    "\n",
    "#### Part (a)\n",
    "\n",
    "```\n",
    "conda create --name ds6600lab1 python=3.12 pip\n",
    "conda activate ds6600lab1\n",
    "conda install neo4j\n",
    "conda install python-dotenv\n",
    "conda install pandas\n",
    "conda install numpy\n",
    "conda install scipy\n",
    "conda install scikit-learn\n",
    "conda install requests\n",
    "conda install prince\n",
    "conda install ipykernel\n",
    "conda install conda-forge::wquantiles\n",
    "pip install ydata_profiling\n",
    "```\n",
    "\n",
    "#### Part (b)"
   ]
  },
  {
   "cell_type": "code",
   "execution_count": 2,
   "id": "cd927f6a",
   "metadata": {},
   "outputs": [],
   "source": [
    "import numpy as np\n",
    "import pandas as pd\n",
    "import weighted # this is a module of wquantiles\n",
    "from scipy import stats\n",
    "import prince\n",
    "from ydata_profiling import ProfileReport"
   ]
  },
  {
   "cell_type": "markdown",
   "id": "63178dcc",
   "metadata": {},
   "source": [
    "### Question 4:\n",
    "#### Part (a)\n",
    "```\n",
    "# syntax=docker/dockerfile:1\n",
    "\n",
    "FROM ubuntu:latest\n",
    "\n",
    "RUN apt-get update && apt-get install -y python3\n",
    "\n",
    "WORKDIR /DS6600_lab1\n",
    "\n",
    "CMD [\"python3\"]\n",
    "```"
   ]
  },
  {
   "cell_type": "markdown",
   "id": "6b2da1f6",
   "metadata": {},
   "source": [
    "#### Part (b)\n",
    "\n",
    "```\n",
    "[+] Building 20.8s (11/11) FINISHED                                                          docker:desktop-linux\n",
    " => [internal] load build definition from Dockerfile                                                         0.0s\n",
    " => => transferring dockerfile: 176B                                                                         0.0s\n",
    " => resolve image config for docker-image://docker.io/docker/dockerfile:1                                    0.8s\n",
    " => [auth] docker/dockerfile:pull token for registry-1.docker.io                                             0.0s\n",
    " => CACHED docker-image://docker.io/docker/dockerfile:1@sha256:dabfc0969b935b2080555ace70ee69a5261af8a8f1b4  0.0s\n",
    " => => resolve docker.io/docker/dockerfile:1@sha256:dabfc0969b935b2080555ace70ee69a5261af8a8f1b4df97b9e7fbc  0.0s\n",
    " => [internal] load metadata for docker.io/library/ubuntu:latest                                             1.5s\n",
    " => [auth] library/ubuntu:pull token for registry-1.docker.io                                                0.0s\n",
    " => [internal] load .dockerignore                                                                            0.0s\n",
    " => => transferring context: 2B                                                                              0.0s\n",
    " => [1/3] FROM docker.io/library/ubuntu:latest@sha256:353675e2a41babd526e2b837d7ec780c2a05bca0164f7ea5dbbd4  0.0s\n",
    " => => resolve docker.io/library/ubuntu:latest@sha256:353675e2a41babd526e2b837d7ec780c2a05bca0164f7ea5dbbd4  0.0s\n",
    " => [2/3] RUN apt-get update && apt-get install -y python3                                                  13.1s\n",
    " => [3/3] WORKDIR /DS6600_lab1                                                                               0.0s \n",
    " => exporting to image                                                                                       5.1s \n",
    " => => exporting layers                                                                                      4.2s \n",
    " => => exporting manifest sha256:73e52e6896bf45c9476e0c6086d963e44a83d24d7a96dc3d8e35ed5e6f71388c            0.0s \n",
    " => => exporting config sha256:e54666185b538817a51986c8f627302cc2f1ee9195444e787f82b085fcdb3fe8              0.0s \n",
    " => => exporting attestation manifest sha256:eae23f994637fea9aed2e3ffc980ab99f0ae57f4b279ff0affbf928fd232cf  0.0s \n",
    " => => exporting manifest list sha256:ad8f072e346ea4a3bf9db69ab35a8de86d5aa0ec157e44af10cc9b0eded039fb       0.0s\n",
    " => => naming to docker.io/library/lab1:latest                                                               0.0s\n",
    " => => unpacking to docker.io/library/lab1:latest \n",
    " ```"
   ]
  },
  {
   "cell_type": "markdown",
   "id": "620431ff",
   "metadata": {},
   "source": [
    "#### Part (c)\n",
    "\n",
    "```\n",
    "Python 3.12.3 (main, Aug 14 2025, 17:47:21) [GCC 13.3.0] on linux\n",
    "Type \"help\", \"copyright\", \"credits\" or \"license\" for more information.\n",
    ">>> print(\"Hello!\")\n",
    "Hello!\n",
    "```"
   ]
  },
  {
   "cell_type": "markdown",
   "id": "43cf3882",
   "metadata": {},
   "source": [
    "### Question 5:\n",
    "\n",
    "It is written in the Book of Hermes:\n",
    "\n",
    "    After the Creation, the cruel god Moloch rebelled\n",
    "    against the authority of Marduk the Creator.\n",
    "    Moloch stole from Marduk the most powerful of all\n",
    "    the artifacts of the gods, the Amulet of Yendor,\n",
    "    and he hid it in the dark cavities of Gehennom, the\n",
    "    Under World, where he now lurks, and bides his time.\n",
    "\n",
    "Your god Hermes seeks to possess the Amulet, and with it\n",
    "to gain deserved ascendance over the other gods."
   ]
  },
  {
   "cell_type": "markdown",
   "id": "bb35afe2",
   "metadata": {},
   "source": [
    "### Question 6:\n",
    "#### Part (a)"
   ]
  },
  {
   "cell_type": "code",
   "execution_count": 3,
   "id": "9749ac7f",
   "metadata": {},
   "outputs": [],
   "source": [
    "from neo4j import GraphDatabase\n",
    "import dotenv\n",
    "import os"
   ]
  },
  {
   "cell_type": "markdown",
   "id": "6ba49f16",
   "metadata": {},
   "source": [
    "#### Part (b)\n",
    "* The default ports the image runs on are 7474 and 7687. I found them on the official Neo4j Docker Hub page at https://hub.docker.com/_/neo4j which states \"This binds two ports (7474 and 7687) for HTTP and Bolt access to the Neo4j API.\"\n",
    "\n",
    "* The folder inside the container that stores the data is `/data`. I found it in Table 1 of the Neo4j documentation at https://neo4j.com/docs/operations-manual/current/docker/mounting-volumes/ which describes `/data` as \"The data store for the Neo4j database.\"\n",
    "\n",
    "* The environmental variable required by the Neo4j image is `NEO4J_AUTH`, which should be set to `neo4j/your_password`. I found this in Table 2 of the Neo4j documentation at https://neo4j.com/docs/operations-manual/current/docker/introduction/."
   ]
  },
  {
   "cell_type": "markdown",
   "id": "e3f8d254",
   "metadata": {},
   "source": [
    "#### Part (c)\n",
    "\n",
    "```\n",
    "services:\n",
    "  neo4j:\n",
    "    image: neo4j\n",
    "    env_file:\n",
    "      - .env\n",
    "    ports:\n",
    "      - \"7474:7474\"\n",
    "      - \"7687:7687\"\n",
    "    volumes:\n",
    "      - neo4jdata:/data\n",
    "\n",
    "volumes:\n",
    "  neo4jdata:\n",
    "```"
   ]
  },
  {
   "cell_type": "markdown",
   "id": "57e3db47",
   "metadata": {},
   "source": [
    "#### Part (d)"
   ]
  },
  {
   "cell_type": "code",
   "execution_count": 6,
   "id": "504a49bd",
   "metadata": {},
   "outputs": [
    {
     "name": "stdout",
     "output_type": "stream",
     "text": [
      "Connection to Neo4j established successfully.\n"
     ]
    }
   ],
   "source": [
    "dotenv.load_dotenv()\n",
    "NEO4J_AUTH= os.getenv('NEO4J_AUTH').split(\"/\")\n",
    "URI = \"bolt://localhost:7687\"\n",
    "USERNAME = NEO4J_AUTH[0]\n",
    "PASSWORD = NEO4J_AUTH[1]\n",
    "\n",
    "try:\n",
    "    # Create a Driver instance\n",
    "    # This only provides connection information, it does not establish a connection\n",
    "    driver = GraphDatabase.driver(URI, auth=(USERNAME, PASSWORD))\n",
    "    # Verify connectivity immediately\n",
    "    # This forces the driver to create a connection and check credentials/compatibility\n",
    "    driver.verify_connectivity()\n",
    "    print(\"Connection to Neo4j established successfully.\")\n",
    "\n",
    "except Exception as e:\n",
    "    print(f\"Failed to connect to Neo4j: {e}\")\n",
    "\n",
    "finally:\n",
    "    # Close the driver to release resources\n",
    "    if 'driver' in locals() and driver:\n",
    "        driver.close()"
   ]
  }
 ],
 "metadata": {
  "kernelspec": {
   "display_name": "ds6600lab1",
   "language": "python",
   "name": "python3"
  },
  "language_info": {
   "codemirror_mode": {
    "name": "ipython",
    "version": 3
   },
   "file_extension": ".py",
   "mimetype": "text/x-python",
   "name": "python",
   "nbconvert_exporter": "python",
   "pygments_lexer": "ipython3",
   "version": "3.12.11"
  }
 },
 "nbformat": 4,
 "nbformat_minor": 5
}
