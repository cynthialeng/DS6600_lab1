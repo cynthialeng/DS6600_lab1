{
 "cells": [
  {
   "cell_type": "markdown",
   "id": "e08c17dd",
   "metadata": {},
   "source": [
    "### Question 1:\n",
    "\n",
    "https://github.com/cynthialeng/DS6600_lab1"
   ]
  }
 ],
 "metadata": {
  "language_info": {
   "name": "python"
  }
 },
 "nbformat": 4,
 "nbformat_minor": 5
}
