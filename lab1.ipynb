{
 "cells": [
  {
   "cell_type": "markdown",
   "id": "e08c17dd",
   "metadata": {},
   "source": [
    "### Question 1:\n",
    "\n",
    "https://github.com/cynthialeng/DS6600_lab1"
   ]
  },
  {
   "cell_type": "markdown",
   "id": "9b0d1bbb",
   "metadata": {},
   "source": [
    "### Question 2:\n",
    "\n",
    "#### Part (a)\n",
    "\n",
    "We should use a **container**, because it lets us package the web portal and app so that any chapter, no matter their operating system, can run, while also cleanly connecting each to its own database in the cloud. Using a VM would also work, but that’s like giving every chapter its own computer in the cloud, which is way more expensive and complicated than necessary. A virtual environment only helps with Python packages and wouldn’t handle the operating system differences, and the global environment would quickly turn into a mess of conflicting software and make it impossible to reliably share the code with other chapters."
   ]
  },
  {
   "cell_type": "markdown",
   "id": "50455a45",
   "metadata": {},
   "source": [
    "#### Part (b)\n",
    "\n",
    "We should use a **virtual environment** so that we can set up a clean Python workspace with just the packages we need and avoid breaking anything else on our computer while cleaning and analyzing the messy Excel file. A container or VM would be overkill: we don’t need to replicate an operating system or allocate huge cloud resources just to clean one dataset and generate a simple report. The global environment could work, but it risks package conflicts."
   ]
  },
  {
   "cell_type": "markdown",
   "id": "12dacd14",
   "metadata": {},
   "source": [
    "#### Part (c)\n",
    "\n",
    "We should use a **container**, so that we can bundle the model plus the Ubuntu-only image-processing software packages into a Docker image so any staff can run the exact same environment on their laptop. A VM could also satisfy the Ubuntu requirement but is more expensive and harder to replicate and distribute per user than a container. A virtual environment only manages Python packages (not Ubuntu system dependencies) so could not be used here, and the global environment risks conflicts and inconsistency across different machines.\n"
   ]
  },
  {
   "cell_type": "markdown",
   "id": "8af45d6a",
   "metadata": {},
   "source": [
    "#### Part (d)\n",
    "\n",
    "We should use a **virtual environment** so our project keeps using its own Python 3 interpreter even if the system default jumps to Python 4. A container would also isolate us from the system upgrade, but it’s heavier to build and run if all we need is to freeze an interpreter and a few Python packages. The global environment risks breaking the moment Python 4 replaces Python 3, and a virtual machine is massive overkill."
   ]
  },
  {
   "cell_type": "markdown",
   "id": "1b1f6aee",
   "metadata": {},
   "source": [
    "### Question 3:\n",
    "\n",
    "#### Part (a)\n",
    "\n",
    "```\n",
    "conda create --name ds6600lab1 python=3.12 pip\n",
    "conda activate ds6600lab1\n",
    "conda install neo4j\n",
    "conda install python-dotenv\n",
    "conda install pandas\n",
    "conda install numpy\n",
    "conda install scipy\n",
    "conda install scikit-learn\n",
    "conda install requests\n",
    "conda install prince\n",
    "conda install ipykernel\n",
    "conda install conda-forge::wquantiles\n",
    "pip install ydata_profiling\n",
    "```\n",
    "\n",
    "#### Part (b)"
   ]
  },
  {
   "cell_type": "code",
   "execution_count": 2,
   "id": "cd927f6a",
   "metadata": {},
   "outputs": [],
   "source": [
    "import numpy as np\n",
    "import pandas as pd\n",
    "import weighted # this is a module of wquantiles\n",
    "from scipy import stats\n",
    "import prince\n",
    "from ydata_profiling import ProfileReport"
   ]
  }
 ],
 "metadata": {
  "kernelspec": {
   "display_name": "ds6600lab1",
   "language": "python",
   "name": "python3"
  },
  "language_info": {
   "codemirror_mode": {
    "name": "ipython",
    "version": 3
   },
   "file_extension": ".py",
   "mimetype": "text/x-python",
   "name": "python",
   "nbconvert_exporter": "python",
   "pygments_lexer": "ipython3",
   "version": "3.12.11"
  }
 },
 "nbformat": 4,
 "nbformat_minor": 5
}
