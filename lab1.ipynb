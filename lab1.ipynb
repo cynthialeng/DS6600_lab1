{
 "cells": [
  {
   "cell_type": "markdown",
   "id": "e08c17dd",
   "metadata": {},
   "source": [
    "### Question 1:\n",
    "\n",
    "https://github.com/cynthialeng/DS6600_lab1"
   ]
  },
  {
   "cell_type": "markdown",
   "id": "9b0d1bbb",
   "metadata": {},
   "source": [
    "### Question 2:\n",
    "\n",
    "#### Part (a)\n",
    "\n",
    "We should use a **container**, because it lets us package the web portal and app so that any chapter, no matter their operating system, can run, while also cleanly connecting each to its own database in the cloud. Using a VM would also work, but that’s like giving every chapter its own computer in the cloud, which is way more expensive and complicated than necessary. A virtual environment only helps with Python packages and wouldn’t handle the operating system differences, and the global environment would quickly turn into a mess of conflicting software and make it impossible to reliably share the code with other chapters."
   ]
  },
  {
   "cell_type": "markdown",
   "id": "50455a45",
   "metadata": {},
   "source": [
    "#### Part (b)\n",
    "\n",
    "We should use a **virtual environment** so that we can set up a clean Python workspace with just the packages we need and avoid breaking anything else on our computer while cleaning and analyzing the messy Excel file. A container or VM would be overkill: we don’t need to replicate an operating system or allocate huge cloud resources just to clean one dataset and generate a simple report. The global environment could work, but it risks package conflicts."
   ]
  },
  {
   "cell_type": "markdown",
   "id": "12dacd14",
   "metadata": {},
   "source": [
    "#### Part (c)\n",
    "\n",
    "We should use a **container**, so that we can bundle the model plus the Ubuntu-only image-processing software packages into a Docker image so any staff can run the exact same environment on their laptop. A VM could also satisfy the Ubuntu requirement but is more expensive and harder to replicate and distribute per user than a container. A virtual environment only manages Python packages (not Ubuntu system dependencies) so could not be used here, and the global environment risks conflicts and inconsistency across different machines.\n"
   ]
  },
  {
   "cell_type": "markdown",
   "id": "8af45d6a",
   "metadata": {},
   "source": [
    "#### Part (d)\n",
    "\n",
    "We should use a **virtual environment** so our project keeps using its own Python 3 interpreter even if the system default jumps to Python 4. A container would also isolate us from the system upgrade, but it’s heavier to build and run if all we need is to freeze an interpreter and a few Python packages. The global environment risks breaking the moment Python 4 replaces Python 3, and a virtual machine is massive overkill."
   ]
  }
 ],
 "metadata": {
  "language_info": {
   "name": "python"
  }
 },
 "nbformat": 4,
 "nbformat_minor": 5
}
